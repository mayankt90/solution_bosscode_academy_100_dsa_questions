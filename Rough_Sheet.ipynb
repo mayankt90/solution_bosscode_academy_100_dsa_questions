{
 "cells": [
  {
   "cell_type": "code",
   "execution_count": 1,
   "id": "091963dd",
   "metadata": {},
   "outputs": [
    {
     "name": "stdout",
     "output_type": "stream",
     "text": [
      "4\n",
      "0\n"
     ]
    }
   ],
   "source": [
    "def maxProfit(prices):\n",
    "    min_price = float('inf')  # Initialize to infinity\n",
    "    max_profit = 0  # Initialize maximum profit to 0\n",
    "\n",
    "    for price in prices:\n",
    "        # Update the minimum price encountered so far\n",
    "        if price < min_price:\n",
    "            min_price = price\n",
    "        # Calculate the profit if sold at the current price and update max profit\n",
    "        elif price - min_price > max_profit:\n",
    "            max_profit = price - min_price\n",
    "\n",
    "    return max_profit\n",
    "\n",
    "print(maxProfit([7, 2, 5, 3, 6, 4]))  # Output: 5\n",
    "print(maxProfit([7, 6, 4, 3, 1]))  # Output: 0"
   ]
  },
  {
   "cell_type": "code",
   "execution_count": null,
   "id": "0dac3ae1",
   "metadata": {},
   "outputs": [],
   "source": [
    "sox stuff\n",
    "you have done \n",
    "want to do "
   ]
  }
 ],
 "metadata": {
  "kernelspec": {
   "display_name": "Python 3",
   "language": "python",
   "name": "python3"
  },
  "language_info": {
   "codemirror_mode": {
    "name": "ipython",
    "version": 3
   },
   "file_extension": ".py",
   "mimetype": "text/x-python",
   "name": "python",
   "nbconvert_exporter": "python",
   "pygments_lexer": "ipython3",
   "version": "3.11.9"
  }
 },
 "nbformat": 4,
 "nbformat_minor": 5
}
